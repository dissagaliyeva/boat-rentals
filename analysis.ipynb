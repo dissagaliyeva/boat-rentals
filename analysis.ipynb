{
 "cells": [
  {
   "cell_type": "markdown",
   "id": "86d646be-3e22-4316-87a7-0ce5d3fad982",
   "metadata": {},
   "source": [
    "# Boat rentals (24 hour analysis)\n",
    "\n",
    "### Project Brief\n",
    "\n",
    "Congratulations, you have just landed your first job as a data scientist at Nearly New Nautical! Nearly New Nautical is a website that allows users to advertise their used boats for sale. To boost traffic to the website, the product manager wants to prevent listing boats that do not receive many views. \n",
    "\n",
    "The product manager wants to know if you can develop a model to predict the number of views a listing will receive based on the boat's features. She would consider using your model if, on average, the predictions were only 50% off of the true number of views a listing would receive.\n",
    "\n",
    "In addition, she has noticed that many users never complete the introductory survey to list their boat. She suspects that it is too long and has asked you whether some features are more predictive of views than others. If so, she may be able to trim the length of the survey and increase the number of people who sign up.\n",
    "\n",
    "You will need to present your findings in two formats:\n",
    "- First, you will need to present your findings to the product manager via a 10 minute oral presentation. The owner has no technical data science background. \n",
    "- You will also need to submit a technical report to your manager, who does have a strong technical data science background.\n",
    "\n"
   ]
  },
  {
   "cell_type": "markdown",
   "id": "d0e118a1-5b9f-4999-b9c6-1fa84c8580d9",
   "metadata": {
    "tags": []
   },
   "source": [
    "### Introduction\n",
    "\n",
    "Finding the perfect recipe to increase the sign-up ratio and the traffic into the website is definitely challenging. It gets even more so, if the sign-up experience is full of endless questions. This notebook was created to attempt facing these challenges. To do so, we have been provided with a dataset that is comprised of 9888 entries. Even though the dataset does not seem that big, it's extremely inconsistent which we will see under \"2. Data cleaning\". Here is the small description of the dataset and its columns:\n",
    "\n",
    "<center><figure>\n",
    "  <img src=\"data/data.png\" width=\"500\">\n",
    "    <figcaption><i>Fig.1 - Dataset description.</i></figcaption>\n",
    "</figure></center>\n",
    "\n",
    "\n",
    "#### Table of Content\n",
    "<ol>\n",
    "  <li>The Dataset</li>\n",
    "  <li>Data cleaning & Exploratory Data Analysis</li>\n",
    "  <li>Feature selection & Model evaluation</li>\n",
    "  <li>Final recommendations</li>\n",
    "  <li>Future work</li>\n",
    "</ol>"
   ]
  },
  {
   "cell_type": "code",
   "execution_count": 33,
   "id": "f9d53e69-b7c4-4b40-aa37-accfc454bb16",
   "metadata": {},
   "outputs": [],
   "source": [
    "import warnings\n",
    "\n",
    "def fxn():\n",
    "    warnings.warn(\"deprecated\", DeprecationWarning)\n",
    "\n",
    "with warnings.catch_warnings():\n",
    "    warnings.simplefilter(\"ignore\")\n",
    "    fxn()"
   ]
  },
  {
   "cell_type": "code",
   "execution_count": 34,
   "id": "a9125e09-2894-46d1-8d07-6efb0e3446b3",
   "metadata": {},
   "outputs": [
    {
     "name": "stdout",
     "output_type": "stream",
     "text": [
      "\u001B[31mERROR: pip's dependency resolver does not currently take into account all the packages that are installed. This behaviour is the source of the following dependency conflicts.\n",
      "tensorflow 2.4.1 requires numpy~=1.19.2, but you have numpy 1.22.3 which is incompatible.\n",
      "tensorflow 2.4.1 requires six~=1.15.0, but you have six 1.16.0 which is incompatible.\n",
      "redshift-connector 2.0.900 requires pytz<2021.9,>=2020.1, but you have pytz 2022.1 which is incompatible.\n",
      "pythonwhat 2.23.1 requires dill~=0.2.7.1, but you have dill 0.3.3 which is incompatible.\n",
      "pythonwhat 2.23.1 requires jinja2~=2.10, but you have jinja2 3.0.1 which is incompatible.\u001B[0m\n",
      "\u001B[33mWARNING: You are using pip version 21.3.1; however, version 22.0.4 is available.\n",
      "You should consider upgrading via the '/usr/bin/python3 -m pip install --upgrade pip' command.\u001B[0m\n"
     ]
    }
   ],
   "source": [
    "!pip install ppscore --quiet --upgrade"
   ]
  },
  {
   "cell_type": "code",
   "execution_count": 35,
   "id": "cf82a8c3-15cc-436f-a522-25283bd1953f",
   "metadata": {},
   "outputs": [],
   "source": [
    "# import essential packages\n",
    "import numpy as np\n",
    "import pandas as pd\n",
    "import seaborn as sns\n",
    "import matplotlib.pyplot as plt\n",
    "\n",
    "import ppscore as pps\n",
    "import missingno as msno\n",
    "\n",
    "from sklearn.ensemble import RandomForestRegressor\n",
    "from sklearn.feature_selection import SelectFromModel\n",
    "from sklearn.feature_selection import RFECV\n",
    "\n",
    "from sklearn.model_selection import train_test_split\n",
    "from sklearn.preprocessing import StandardScaler\n",
    "from sklearn.metrics import mean_squared_error\n",
    "\n",
    "from utils import cleanup, viz\n",
    "\n",
    "plt.rcParams[\"figure.figsize\"] = (10, 5)\n",
    "sns.set()\n",
    "sns.set_palette('dark')"
   ]
  },
  {
   "cell_type": "markdown",
   "id": "a9a48dc4-8a1b-43e9-b31e-0b64c9d8e406",
   "metadata": {},
   "source": [
    "### 1. The Dataset\n",
    "\n",
    "It's important to know what data we have in hands before diving into the most fun part - building models. To get a sense of it, we will look into the overall distribution and statistics to see whether there are any obvious problems. "
   ]
  },
  {
   "cell_type": "code",
   "execution_count": 36,
   "id": "fc9e8d60-6165-4e71-aa8c-4eab196cbbcf",
   "metadata": {},
   "outputs": [
    {
     "data": {
      "application/com.datacamp.data-table.v1+json": {
       "is_truncated": false,
       "table": {
        "data": [
         {
          "Boat Type": "Motor Yacht",
          "Length": 4,
          "Location": "Switzerland Â» Lake Geneva Â» VÃ©senaz",
          "Manufacturer": "Rigiflex power boats",
          "Material": null,
          "Number of views last 7 days": 226,
          "Price": "CHF 3337",
          "Type": "new boat from stock",
          "Width": 1.9,
          "Year Built": 2017,
          "index": 0
         },
         {
          "Boat Type": "Center console boat",
          "Length": 4,
          "Location": "Germany Â» BÃ¶nningstedt",
          "Manufacturer": "Terhi power boats",
          "Material": "Thermoplastic",
          "Number of views last 7 days": 75,
          "Price": "EUR 3490",
          "Type": "new boat from stock",
          "Width": 1.5,
          "Year Built": 2020,
          "index": 1
         },
         {
          "Boat Type": "Sport Boat",
          "Length": 3.69,
          "Location": "Switzerland Â» Lake of Zurich Â» StÃ¤fa ZH",
          "Manufacturer": "Marine power boats",
          "Material": "Aluminium",
          "Number of views last 7 days": 124,
          "Price": "CHF 3770",
          "Type": "new boat from stock",
          "Width": 1.42,
          "Year Built": 0,
          "index": 2
         }
        ],
        "schema": {
         "fields": [
          {
           "name": "index",
           "type": "integer"
          },
          {
           "name": "Price",
           "type": "string"
          },
          {
           "name": "Boat Type",
           "type": "string"
          },
          {
           "name": "Manufacturer",
           "type": "string"
          },
          {
           "name": "Type",
           "type": "string"
          },
          {
           "name": "Year Built",
           "type": "integer"
          },
          {
           "name": "Length",
           "type": "number"
          },
          {
           "name": "Width",
           "type": "number"
          },
          {
           "name": "Material",
           "type": "string"
          },
          {
           "name": "Location",
           "type": "string"
          },
          {
           "name": "Number of views last 7 days",
           "type": "integer"
          }
         ],
         "pandas_version": "1.4.0",
         "primaryKey": [
          "index"
         ]
        }
       },
       "total_rows": 3
      },
      "text/html": [
       "<div>\n",
       "<style scoped>\n",
       "    .dataframe tbody tr th:only-of-type {\n",
       "        vertical-align: middle;\n",
       "    }\n",
       "\n",
       "    .dataframe tbody tr th {\n",
       "        vertical-align: top;\n",
       "    }\n",
       "\n",
       "    .dataframe thead th {\n",
       "        text-align: right;\n",
       "    }\n",
       "</style>\n",
       "<table border=\"1\" class=\"dataframe\">\n",
       "  <thead>\n",
       "    <tr style=\"text-align: right;\">\n",
       "      <th></th>\n",
       "      <th>Price</th>\n",
       "      <th>Boat Type</th>\n",
       "      <th>Manufacturer</th>\n",
       "      <th>Type</th>\n",
       "      <th>Year Built</th>\n",
       "      <th>Length</th>\n",
       "      <th>Width</th>\n",
       "      <th>Material</th>\n",
       "      <th>Location</th>\n",
       "      <th>Number of views last 7 days</th>\n",
       "    </tr>\n",
       "  </thead>\n",
       "  <tbody>\n",
       "    <tr>\n",
       "      <th>0</th>\n",
       "      <td>CHF 3337</td>\n",
       "      <td>Motor Yacht</td>\n",
       "      <td>Rigiflex power boats</td>\n",
       "      <td>new boat from stock</td>\n",
       "      <td>2017</td>\n",
       "      <td>4.00</td>\n",
       "      <td>1.90</td>\n",
       "      <td>NaN</td>\n",
       "      <td>Switzerland Â» Lake Geneva Â» VÃ©senaz</td>\n",
       "      <td>226</td>\n",
       "    </tr>\n",
       "    <tr>\n",
       "      <th>1</th>\n",
       "      <td>EUR 3490</td>\n",
       "      <td>Center console boat</td>\n",
       "      <td>Terhi power boats</td>\n",
       "      <td>new boat from stock</td>\n",
       "      <td>2020</td>\n",
       "      <td>4.00</td>\n",
       "      <td>1.50</td>\n",
       "      <td>Thermoplastic</td>\n",
       "      <td>Germany Â» BÃ¶nningstedt</td>\n",
       "      <td>75</td>\n",
       "    </tr>\n",
       "    <tr>\n",
       "      <th>2</th>\n",
       "      <td>CHF 3770</td>\n",
       "      <td>Sport Boat</td>\n",
       "      <td>Marine power boats</td>\n",
       "      <td>new boat from stock</td>\n",
       "      <td>0</td>\n",
       "      <td>3.69</td>\n",
       "      <td>1.42</td>\n",
       "      <td>Aluminium</td>\n",
       "      <td>Switzerland Â» Lake of Zurich Â» StÃ¤fa ZH</td>\n",
       "      <td>124</td>\n",
       "    </tr>\n",
       "  </tbody>\n",
       "</table>\n",
       "</div>"
      ],
      "text/plain": [
       "      Price            Boat Type          Manufacturer                 Type  \\\n",
       "0  CHF 3337          Motor Yacht  Rigiflex power boats  new boat from stock   \n",
       "1  EUR 3490  Center console boat     Terhi power boats  new boat from stock   \n",
       "2  CHF 3770           Sport Boat    Marine power boats  new boat from stock   \n",
       "\n",
       "   Year Built  Length  Width       Material  \\\n",
       "0        2017    4.00   1.90            NaN   \n",
       "1        2020    4.00   1.50  Thermoplastic   \n",
       "2           0    3.69   1.42      Aluminium   \n",
       "\n",
       "                                     Location  Number of views last 7 days  \n",
       "0      Switzerland Â» Lake Geneva Â» VÃ©senaz                          226  \n",
       "1                    Germany Â» BÃ¶nningstedt                           75  \n",
       "2  Switzerland Â» Lake of Zurich Â» StÃ¤fa ZH                          124  "
      ]
     },
     "execution_count": 36,
     "metadata": {},
     "output_type": "execute_result"
    }
   ],
   "source": [
    "# read the csv file\n",
    "listings = pd.read_csv('data/boat_data.csv')\n",
    "listings.head(3)"
   ]
  },
  {
   "cell_type": "code",
   "execution_count": 37,
   "id": "b5bf1e42-1555-4e88-906e-9b89b43a744c",
   "metadata": {},
   "outputs": [
    {
     "name": "stdout",
     "output_type": "stream",
     "text": [
      "Shape of the dataset: (9888, 10)\n"
     ]
    },
    {
     "data": {
      "application/com.datacamp.data-table.v1+json": {
       "is_truncated": false,
       "table": {
        "data": [
         {
          "Length": 9879,
          "Number of views last 7 days": 9888,
          "Width": 9832,
          "Year Built": 9888,
          "index": "count"
         },
         {
          "Length": 11.5700172082,
          "Number of views last 7 days": 149.1608009709,
          "Width": 3.5201240846,
          "Year Built": 1893.1928600324,
          "index": "mean"
         },
         {
          "Length": 6.0028196207,
          "Number of views last 7 days": 151.8197517152,
          "Width": 1.2205343019,
          "Year Built": 460.2015819472,
          "index": "std"
         },
         {
          "Length": 1.04,
          "Number of views last 7 days": 13,
          "Width": 0.01,
          "Year Built": 0,
          "index": "min"
         },
         {
          "Length": 7.47,
          "Number of views last 7 days": 70,
          "Width": 2.54,
          "Year Built": 1996,
          "index": "25%"
         },
         {
          "Length": 10.28,
          "Number of views last 7 days": 108,
          "Width": 3.33,
          "Year Built": 2007,
          "index": "50%"
         },
         {
          "Length": 13.93,
          "Number of views last 7 days": 172,
          "Width": 4.25,
          "Year Built": 2017,
          "index": "75%"
         },
         {
          "Length": 100,
          "Number of views last 7 days": 3263,
          "Width": 25.16,
          "Year Built": 2021,
          "index": "max"
         }
        ],
        "schema": {
         "fields": [
          {
           "name": "index",
           "type": "string"
          },
          {
           "name": "Year Built",
           "type": "number"
          },
          {
           "name": "Length",
           "type": "number"
          },
          {
           "name": "Width",
           "type": "number"
          },
          {
           "name": "Number of views last 7 days",
           "type": "number"
          }
         ],
         "pandas_version": "1.4.0",
         "primaryKey": [
          "index"
         ]
        }
       },
       "total_rows": 8
      },
      "text/html": [
       "<div>\n",
       "<style scoped>\n",
       "    .dataframe tbody tr th:only-of-type {\n",
       "        vertical-align: middle;\n",
       "    }\n",
       "\n",
       "    .dataframe tbody tr th {\n",
       "        vertical-align: top;\n",
       "    }\n",
       "\n",
       "    .dataframe thead th {\n",
       "        text-align: right;\n",
       "    }\n",
       "</style>\n",
       "<table border=\"1\" class=\"dataframe\">\n",
       "  <thead>\n",
       "    <tr style=\"text-align: right;\">\n",
       "      <th></th>\n",
       "      <th>Year Built</th>\n",
       "      <th>Length</th>\n",
       "      <th>Width</th>\n",
       "      <th>Number of views last 7 days</th>\n",
       "    </tr>\n",
       "  </thead>\n",
       "  <tbody>\n",
       "    <tr>\n",
       "      <th>count</th>\n",
       "      <td>9888.000000</td>\n",
       "      <td>9879.000000</td>\n",
       "      <td>9832.000000</td>\n",
       "      <td>9888.000000</td>\n",
       "    </tr>\n",
       "    <tr>\n",
       "      <th>mean</th>\n",
       "      <td>1893.192860</td>\n",
       "      <td>11.570017</td>\n",
       "      <td>3.520124</td>\n",
       "      <td>149.160801</td>\n",
       "    </tr>\n",
       "    <tr>\n",
       "      <th>std</th>\n",
       "      <td>460.201582</td>\n",
       "      <td>6.002820</td>\n",
       "      <td>1.220534</td>\n",
       "      <td>151.819752</td>\n",
       "    </tr>\n",
       "    <tr>\n",
       "      <th>min</th>\n",
       "      <td>0.000000</td>\n",
       "      <td>1.040000</td>\n",
       "      <td>0.010000</td>\n",
       "      <td>13.000000</td>\n",
       "    </tr>\n",
       "    <tr>\n",
       "      <th>25%</th>\n",
       "      <td>1996.000000</td>\n",
       "      <td>7.470000</td>\n",
       "      <td>2.540000</td>\n",
       "      <td>70.000000</td>\n",
       "    </tr>\n",
       "    <tr>\n",
       "      <th>50%</th>\n",
       "      <td>2007.000000</td>\n",
       "      <td>10.280000</td>\n",
       "      <td>3.330000</td>\n",
       "      <td>108.000000</td>\n",
       "    </tr>\n",
       "    <tr>\n",
       "      <th>75%</th>\n",
       "      <td>2017.000000</td>\n",
       "      <td>13.930000</td>\n",
       "      <td>4.250000</td>\n",
       "      <td>172.000000</td>\n",
       "    </tr>\n",
       "    <tr>\n",
       "      <th>max</th>\n",
       "      <td>2021.000000</td>\n",
       "      <td>100.000000</td>\n",
       "      <td>25.160000</td>\n",
       "      <td>3263.000000</td>\n",
       "    </tr>\n",
       "  </tbody>\n",
       "</table>\n",
       "</div>"
      ],
      "text/plain": [
       "        Year Built       Length        Width  Number of views last 7 days\n",
       "count  9888.000000  9879.000000  9832.000000                  9888.000000\n",
       "mean   1893.192860    11.570017     3.520124                   149.160801\n",
       "std     460.201582     6.002820     1.220534                   151.819752\n",
       "min       0.000000     1.040000     0.010000                    13.000000\n",
       "25%    1996.000000     7.470000     2.540000                    70.000000\n",
       "50%    2007.000000    10.280000     3.330000                   108.000000\n",
       "75%    2017.000000    13.930000     4.250000                   172.000000\n",
       "max    2021.000000   100.000000    25.160000                  3263.000000"
      ]
     },
     "execution_count": 37,
     "metadata": {},
     "output_type": "execute_result"
    }
   ],
   "source": [
    "# show the shape and descriptive statistics\n",
    "print('Shape of the dataset:', listings.shape)\n",
    "\n",
    "listings.describe()"
   ]
  },
  {
   "cell_type": "code",
   "execution_count": 38,
   "id": "0e562898-051f-40c0-8fd3-aff1b1398ef0",
   "metadata": {},
   "outputs": [
    {
     "name": "stdout",
     "output_type": "stream",
     "text": [
      "Price:\n",
      "\t3182 unique values\n",
      "Boat Type:\n",
      "\t126 unique values\n",
      "Manufacturer:\n",
      "\t910 unique values\n",
      "Type:\n",
      "\t24 unique values\n",
      "Material:\n",
      "\t11 unique values\n",
      "Location:\n",
      "\t2995 unique values\n"
     ]
    }
   ],
   "source": [
    "# look into categorical data distributions\n",
    "for col in listings.select_dtypes('object').columns:\n",
    "    print(f'{col}:\\n\\t{listings[col].nunique()} unique values')"
   ]
  },
  {
   "cell_type": "code",
   "execution_count": 39,
   "id": "c6709cf1-2ccc-4cc5-a288-466189075f94",
   "metadata": {},
   "outputs": [
    {
     "data": {
      "image/png": "[encoded data removed]",
      "text/plain": [
       "<Figure size 1008x432 with 4 Axes>"
      ]
     },
     "metadata": {},
     "output_type": "display_data"
    }
   ],
   "source": [
    "# look into numeric data distributions\n",
    "numeric = listings.select_dtypes(np.number).columns\n",
    "\n",
    "# show boxplots of all numeric values\n",
    "fig, ax = plt.subplots(1, len(numeric), figsize=(14, 6))\n",
    "# set a title\n",
    "fig.suptitle('Numeric columns distribution', fontsize=16)\n",
    "\n",
    "# traverse the dataset to show columns individually\n",
    "for idx in range(len(numeric)):\n",
    "    sns.boxplot(y=listings[numeric[idx]], ax=ax[idx])\n",
    "    ax[idx].set_title(f'{numeric[idx]}', fontsize=14)\n",
    "\n",
    "# label the axis and show plots\n",
    "plt.xlabel('columns'); plt.ylabel('distribution')\n",
    "plt.tight_layout(); plt.show()"
   ]
  },
  {
   "cell_type": "markdown",
   "id": "4650e232-e0af-4514-9634-e971d485df60",
   "metadata": {},
   "source": [
    "#### 💡 Insights \n",
    "\n",
    "The above code revealed some important information that cannot be overlooked. First of all, the dataset is a mixture of categorical and numerical data that make up 60% and 40% respectively. However, the problem arises in the variability of such columns as *Location, Manufacturer, and Boat Type*. These columns will be carefully dealt with in the next *Data Cleaning* section. \n",
    "\n",
    "❗**Important**: the \"Location\" column contains almost 3000 unique values (!). We definitely need to carefully analyze the situation and re-map/drop insufficient data entries. Why is it important? We will build models that don't tolerate having categorical values. Therefore, we will need to convert them into numeric. That can be done with encoding (transforming categorical value to numeric) only. This will blow up the dataset's dimensions, and our dataset could end up with over 3000 columns.   \n",
    "\n",
    "Other than that, there are the following problems that will require closer look:\n",
    "\n",
    "- \"Year Built\" column has zero values, they will need to be dropped;\n",
    "- \"Price\" column will need to undergo some alterations: cleaning, currency conversion, and homogenisation\n",
    "\n",
    "The dataset provided is pretty messy. It will especially be more evident in the next section that specifically deals with the missing values. However, first, let's remove the \"Year built\" rows with 0 values!\n",
    "\n"
   ]
  },
  {
   "cell_type": "code",
   "execution_count": 40,
   "id": "02be49b5-21b5-43fc-aabc-6e2ac99925e4",
   "metadata": {},
   "outputs": [
    {
     "name": "stdout",
     "output_type": "stream",
     "text": [
      "556 data points with \"Year Built\" equalling 0\n"
     ]
    }
   ],
   "source": [
    "# look into the rows with \"Year Built\" == 0\n",
    "zeros = listings[listings['Year Built'] < 1900]\n",
    "print(len(zeros), 'data points with \"Year Built\" equalling 0')\n",
    "\n",
    "# drop insufficient data\n",
    "listings.drop(index=zeros.index, axis='rows', inplace=True)\n",
    "\n",
    "# reset index to have consistent indexing\n",
    "listings.reset_index(inplace=True, drop=True)\n",
    "\n",
    "# verify changes\n",
    "assert len(listings[listings['Year Built'] < 1900]) == 0, 'There are rows with \"Year Built\" equalling 0'"
   ]
  },
  {
   "cell_type": "markdown",
   "id": "3226d3db-c618-464d-9ab1-527dae1f8684",
   "metadata": {},
   "source": [
    "### 2. Data cleaning & Exploratory Data Analysis\n",
    "\n",
    "This section deals with the numerous data cleaning techniques to make sure the data is in the same standard. We see below that the number of data rows with at least one missing value makes up ~30%. To address the situation, the action plan was created to:\n",
    "1. Check the current state\n",
    "2. Drop the most insignificant values \n",
    "3. Clean out the easiest column - \"Boat Type\"\n",
    "4. Impute missing values according to Step 3 \n",
    "5. Fix \"Location\" and \"Price\" columns\n",
    "\n",
    "\n",
    "P.S., to keep the notebook as clean as possible, there was a need to modularize the code so that all the messy things get dealt with behind the scenes. However, because there was a rigid time constraint - there is no documentation present. \n"
   ]
  },
  {
   "cell_type": "code",
   "execution_count": 41,
   "id": "efe0a910-1502-4c54-adef-13e460151d2d",
   "metadata": {},
   "outputs": [
    {
     "name": "stdout",
     "output_type": "stream",
     "text": [
      "Number of rows with missing values: 2743 (29.39%)\n"
     ]
    },
    {
     "data": {
      "application/com.datacamp.data-table.v1+json": {
       "is_truncated": false,
       "table": {
        "data": [
         {
          "column": "Material",
          "count": 1662,
          "index": 7,
          "percentage": 0.18
         },
         {
          "column": "Manufacturer",
          "count": 1281,
          "index": 2,
          "percentage": 0.14
         },
         {
          "column": "Width",
          "count": 55,
          "index": 6,
          "percentage": 0.01
         },
         {
          "column": "Price",
          "count": 0,
          "index": 0,
          "percentage": 0
         },
         {
          "column": "Boat Type",
          "count": 0,
          "index": 1,
          "percentage": 0
         },
         {
          "column": "Type",
          "count": 5,
          "index": 3,
          "percentage": 0
         },
         {
          "column": "Year Built",
          "count": 0,
          "index": 4,
          "percentage": 0
         },
         {
          "column": "Length",
          "count": 9,
          "index": 5,
          "percentage": 0
         },
         {
          "column": "Location",
          "count": 36,
          "index": 8,
          "percentage": 0
         },
         {
          "column": "Number of views last 7 days",
          "count": 0,
          "index": 9,
          "percentage": 0
         }
        ],
        "schema": {
         "fields": [
          {
           "name": "index",
           "type": "integer"
          },
          {
           "name": "column",
           "type": "string"
          },
          {
           "name": "count",
           "type": "integer"
          },
          {
           "name": "percentage",
           "type": "number"
          }
         ],
         "pandas_version": "1.4.0",
         "primaryKey": [
          "index"
         ]
        }
       },
       "total_rows": 10
      },
      "text/html": [
       "<div>\n",
       "<style scoped>\n",
       "    .dataframe tbody tr th:only-of-type {\n",
       "        vertical-align: middle;\n",
       "    }\n",
       "\n",
       "    .dataframe tbody tr th {\n",
       "        vertical-align: top;\n",
       "    }\n",
       "\n",
       "    .dataframe thead th {\n",
       "        text-align: right;\n",
       "    }\n",
       "</style>\n",
       "<table border=\"1\" class=\"dataframe\">\n",
       "  <thead>\n",
       "    <tr style=\"text-align: right;\">\n",
       "      <th></th>\n",
       "      <th>column</th>\n",
       "      <th>count</th>\n",
       "      <th>percentage</th>\n",
       "    </tr>\n",
       "  </thead>\n",
       "  <tbody>\n",
       "    <tr>\n",
       "      <th>7</th>\n",
       "      <td>Material</td>\n",
       "      <td>1662</td>\n",
       "      <td>0.18</td>\n",
       "    </tr>\n",
       "    <tr>\n",
       "      <th>2</th>\n",
       "      <td>Manufacturer</td>\n",
       "      <td>1281</td>\n",
       "      <td>0.14</td>\n",
       "    </tr>\n",
       "    <tr>\n",
       "      <th>6</th>\n",
       "      <td>Width</td>\n",
       "      <td>55</td>\n",
       "      <td>0.01</td>\n",
       "    </tr>\n",
       "    <tr>\n",
       "      <th>0</th>\n",
       "      <td>Price</td>\n",
       "      <td>0</td>\n",
       "      <td>0.00</td>\n",
       "    </tr>\n",
       "    <tr>\n",
       "      <th>1</th>\n",
       "      <td>Boat Type</td>\n",
       "      <td>0</td>\n",
       "      <td>0.00</td>\n",
       "    </tr>\n",
       "    <tr>\n",
       "      <th>3</th>\n",
       "      <td>Type</td>\n",
       "      <td>5</td>\n",
       "      <td>0.00</td>\n",
       "    </tr>\n",
       "    <tr>\n",
       "      <th>4</th>\n",
       "      <td>Year Built</td>\n",
       "      <td>0</td>\n",
       "      <td>0.00</td>\n",
       "    </tr>\n",
       "    <tr>\n",
       "      <th>5</th>\n",
       "      <td>Length</td>\n",
       "      <td>9</td>\n",
       "      <td>0.00</td>\n",
       "    </tr>\n",
       "    <tr>\n",
       "      <th>8</th>\n",
       "      <td>Location</td>\n",
       "      <td>36</td>\n",
       "      <td>0.00</td>\n",
       "    </tr>\n",
       "    <tr>\n",
       "      <th>9</th>\n",
       "      <td>Number of views last 7 days</td>\n",
       "      <td>0</td>\n",
       "      <td>0.00</td>\n",
       "    </tr>\n",
       "  </tbody>\n",
       "</table>\n",
       "</div>"
      ],
      "text/plain": [
       "                        column  count  percentage\n",
       "7                     Material   1662        0.18\n",
       "2                 Manufacturer   1281        0.14\n",
       "6                        Width     55        0.01\n",
       "0                        Price      0        0.00\n",
       "1                    Boat Type      0        0.00\n",
       "3                         Type      5        0.00\n",
       "4                   Year Built      0        0.00\n",
       "5                       Length      9        0.00\n",
       "8                     Location     36        0.00\n",
       "9  Number of views last 7 days      0        0.00"
      ]
     },
     "execution_count": 41,
     "metadata": {},
     "output_type": "execute_result"
    }
   ],
   "source": [
    "# check the number of missing values\n",
    "missing = listings[listings.isna().any(axis=1)]\n",
    "print(f'Number of rows with missing values: {len(missing)} ({round((len(missing) / len(listings)) * 100, 2)}%)')\n",
    "\n",
    "# check where the data is missing\n",
    "missing = listings.isna().sum().reset_index().rename(columns={'index': 'column', 0: 'count'})\n",
    "\n",
    "# show in the descending order => most missing first\n",
    "missing['percentage'] = round(missing['count'] / len(listings), 2)\n",
    "missing.sort_values('percentage', ascending=False)"
   ]
  },
  {
   "cell_type": "code",
   "execution_count": 42,
   "id": "acbe2d16-9399-4f52-9a14-d44aa53ccdd4",
   "metadata": {},
   "outputs": [],
   "source": [
    "# drop all insignificant columns that have less than 1% of missing values\n",
    "listings.drop(listings[listings['Location'].isna()].index, axis='rows', inplace=True)\n",
    "listings.drop(listings[listings['Width'].isna()].index, axis='rows', inplace=True)\n",
    "listings.drop(listings[listings['Length'].isna()].index, axis='rows', inplace=True)\n",
    "listings.drop(listings[listings['Type'].isna()].index, axis='rows', inplace=True)\n",
    "\n",
    "# reset index \n",
    "listings.reset_index(drop=True, inplace=True)"
   ]
  },
  {
   "cell_type": "markdown",
   "id": "9fb79f56-1ccf-4ce4-84cc-dbc64413850d",
   "metadata": {
    "tags": []
   },
   "source": [
    "#### Boat Types\n",
    "\n",
    "The necessity to focus on cleaning the boat type arose from the non-homogenuous representation. There was a big number of rows with more than one boat type, i.e. \"Classic, Runabout, Sport Boat\" or \"Cabin Boat, Motor Yacht\". Figure 2 perfectly illustrates the condition of the column before cleaning. Doing so helped reduce boat types from 125 to 26!\n",
    "\n",
    "<center><figure>\n",
    "  <img src=\"data/boat.png\" width=\"1000\">\n",
    "    <figcaption><i>Fig.2 - Boat type distribution.</i></figcaption>\n",
    "</figure></center>\n"
   ]
  },
  {
   "cell_type": "code",
   "execution_count": 43,
   "id": "661f4d94-5683-4c33-bbb7-91259f663400",
   "metadata": {},
   "outputs": [
    {
     "name": "stdout",
     "output_type": "stream",
     "text": [
      "Number of unique boat types before cleaning: 125\n",
      "Number of unique boat types after cleaning: 26\n"
     ]
    }
   ],
   "source": [
    "def prettify_types(x):\n",
    "    \"\"\"This function fixes Boat Type column\"\"\"\n",
    "    for boat in BOAT_TYPES:\n",
    "        if boat in x:\n",
    "            return boat\n",
    "    if ',' in x:\n",
    "        return x.split(',')[0]\n",
    "    return x\n",
    "\n",
    "# get the most common boat types\n",
    "BOAT_TYPES = listings['Boat Type'].value_counts().head(10).reset_index()['index'].tolist()\n",
    "\n",
    "# record the number of boat types before cleaning\n",
    "print('Number of unique boat types before cleaning:', listings['Boat Type'].nunique())\n",
    "\n",
    "# clean the column and show the results\n",
    "listings['Boat Type'] = listings['Boat Type'].apply(lambda x: prettify_types(x))\n",
    "print('Number of unique boat types after cleaning:', listings['Boat Type'].nunique())"
   ]
  },
  {
   "cell_type": "code",
   "execution_count": 44,
   "id": "429efa4f-f4aa-4fb9-87aa-56f3c05c9f98",
   "metadata": {},
   "outputs": [
    {
     "data": {
      "text/plain": [
       "Price                          0\n",
       "Boat Type                      0\n",
       "Manufacturer                   0\n",
       "Type                           0\n",
       "Year Built                     0\n",
       "Length                         0\n",
       "Width                          0\n",
       "Material                       0\n",
       "Location                       0\n",
       "Number of views last 7 days    0\n",
       "dtype: int64"
      ]
     },
     "execution_count": 44,
     "metadata": {},
     "output_type": "execute_result"
    }
   ],
   "source": [
    "# fix all other missing values\n",
    "cleanup.clean_group(listings)\n",
    "\n",
    "# verify all columns are imputed\n",
    "listings.isna().sum()"
   ]
  },
  {
   "cell_type": "markdown",
   "id": "94d283f6-48fb-4551-98d7-f07f709aa304",
   "metadata": {},
   "source": [
    "#### ❗ Important\n",
    "\n",
    "Now that we have all the columns cleaned and no missing value present, we come across an interesting finding. The dataset includes both **used, new, and display models**. The goal of the notebook is to predict well on the used boats, so it's important to stick to it. This means dropping around 2000 data entries. \n"
   ]
  },
  {
   "cell_type": "code",
   "execution_count": 45,
   "id": "c3c5219f-e387-466c-be85-54b28414e66b",
   "metadata": {},
   "outputs": [
    {
     "name": "stdout",
     "output_type": "stream",
     "text": [
      "Number of data entries before drop: 9236\n",
      "Number of data entries after drop:  7232\n"
     ]
    }
   ],
   "source": [
    "# show the number of data entries before the drop\n",
    "print('Number of data entries before drop:', len(listings))\n",
    "\n",
    "# drop unimportant values and reset indices \n",
    "idx = listings[listings['Type'].str.contains('new|Display')].index\n",
    "listings.drop(index=idx, axis='rows', inplace=True)\n",
    "listings.reset_index(inplace=True, drop=True)\n",
    "\n",
    "# show the number of data entries after the drop\n",
    "print('Number of data entries after drop: ', len(listings))"
   ]
  },
  {
   "cell_type": "code",
   "execution_count": 46,
   "id": "45ad1cca-2197-4cc4-ac2d-f52fb3fdee5e",
   "metadata": {},
   "outputs": [
    {
     "data": {
      "image/png": "[encoded data removed]",
      "text/plain": [
       "<Figure size 1008x432 with 2 Axes>"
      ]
     },
     "metadata": {},
     "output_type": "display_data"
    }
   ],
   "source": [
    "# clean \"type\" column to have only relevant information\n",
    "before = listings['Type']\n",
    "listings['Type'] = listings['Type'].apply(lambda x: cleanup.change_type(x))\n",
    "\n",
    "# visually show the difference\n",
    "fig, ax = plt.subplots(1, 2, figsize=(14, 6), sharex=True)\n",
    "sns.countplot(y=before, ax=ax[0])\n",
    "sns.countplot(y=listings['Type'], ax=ax[1])\n",
    "\n",
    "# set titles\n",
    "ax[0].set_title('Before fix', fontsize=14)\n",
    "ax[1].set_title('After fix', fontsize=14)\n",
    "\n",
    "# set the main title and label axis\n",
    "fig.suptitle('Type distributions', fontsize=17)\n",
    "plt.xlabel('count')\n",
    "plt.ylabel('Type')\n",
    "\n",
    "plt.tight_layout()\n",
    "plt.show()"
   ]
  },
  {
   "cell_type": "markdown",
   "id": "65bfafd7-1cdf-4d63-985d-a346cf975e2c",
   "metadata": {},
   "source": [
    "#### Fix small problems \n",
    "\n",
    "Now that we have everything in the same format, we can fix the final details. There are a lot of columns that have singular occurrence. Since they don't provide any meaningful information to the model, it's best to drop them. To illustrate why I'm doing that, here's the sorted from top-bottom and bottom-top to show the difference:\n",
    "\n",
    "<figure>\n",
    "    <center>\n",
    "        <img src=\"data/types.png\" width=400 height=500/>\n",
    "        <figcaption><i>Fig.3 - Boat type percentage distribution.</i></figcaption>\n",
    "    </center>\n",
    "    \n",
    "</figure>\n"
   ]
  },
  {
   "cell_type": "code",
   "execution_count": 47,
   "id": "699434c5-5bb2-4507-96be-29a313518d63",
   "metadata": {},
   "outputs": [],
   "source": [
    "# remove insignificant data from \"Boat Type\" column\n",
    "types = listings['Boat Type'].value_counts(normalize=True).reset_index()\n",
    "index = types[types['Boat Type'] < 0.01]['index'].tolist()\n",
    "\n",
    "# drop values that take up less than 1% of the dataset\n",
    "listings.drop(index=listings[listings['Boat Type'].isin(index)].index, axis='rows', inplace=True)\n",
    "listings.reset_index(inplace=True, drop=True)"
   ]
  },
  {
   "cell_type": "code",
   "execution_count": 48,
   "id": "79eb2e6c-1a21-4099-a468-16fa55cab5c5",
   "metadata": {},
   "outputs": [],
   "source": [
    "# remove insignificant data from \"Material\" column\n",
    "types = listings['Material'].value_counts(normalize=True).reset_index()\n",
    "index = types[types['Material'] < 0.009]['index'].tolist()\n",
    "\n",
    "# drop values that take up less than 9% of the dataset\n",
    "listings.drop(index=listings[listings['Material'].isin(index)].index, axis='rows', inplace=True)\n",
    "listings.reset_index(inplace=True, drop=True)"
   ]
  },
  {
   "cell_type": "code",
   "execution_count": 49,
   "id": "2fb1ad15-9e85-413b-9bb5-11dbff2a7881",
   "metadata": {},
   "outputs": [
    {
     "data": {
      "image/png": "[encoded data removed]",
      "text/plain": [
       "<Figure size 1008x360 with 2 Axes>"
      ]
     },
     "metadata": {},
     "output_type": "display_data"
    }
   ],
   "source": [
    "# show the current distribution\n",
    "fig, ax = plt.subplots(1, 2, figsize=(14, 5))\n",
    "sns.countplot(y=listings['Type'], ax=ax[0])\n",
    "sns.countplot(y=listings['Material'], ax=ax[1]) \n",
    "plt.tight_layout()\n",
    "plt.show()"
   ]
  },
  {
   "cell_type": "markdown",
   "id": "01e0db95-52c1-46a2-9c1e-ff82dafdd899",
   "metadata": {},
   "source": [
    "#### Location column"
   ]
  },
  {
   "cell_type": "code",
   "execution_count": 50,
   "id": "d6191dfe-9394-4db6-b707-dd13de79678e",
   "metadata": {},
   "outputs": [],
   "source": [
    "# fix location column\n",
    "listings['Location'] = listings['Location'].apply(lambda x: cleanup.prettify_locations(x))"
   ]
  },
  {
   "cell_type": "code",
   "execution_count": 51,
   "id": "344b18fd-d043-4973-9ba8-fc764a937d6d",
   "metadata": {},
   "outputs": [],
   "source": [
    "# select countries to not delete\n",
    "safe = ['Romania', 'Egypt', 'Taiwan', 'Luxembourg', 'Ireland', 'Morocco', 'Seychelles', 'Gibraltar', 'Lebanon', 'Serbia']\n",
    "countries = listings['Location'].value_counts().reset_index()\n",
    "\n",
    "# delete single-instance data entries\n",
    "delete = countries[(countries['Location'] < 2) & (~countries['index'].isin(safe))]['index'].tolist()\n",
    "idx = listings[listings['Location'].isin(delete)].index\n",
    "listings.drop(index=idx, axis='rows', inplace=True)\n",
    "listings.reset_index(drop=True, inplace=True)"
   ]
  },
  {
   "cell_type": "code",
   "execution_count": 52,
   "id": "2edb1335-967d-4bde-be9b-2d57565519ba",
   "metadata": {},
   "outputs": [],
   "source": [
    "# group countries that have less than 6% representation\n",
    "types = listings['Location'].value_counts(normalize=True).reset_index()\n",
    "countries = types[types['Location'] < 0.06]['index'].tolist()\n",
    "\n",
    "# change the Location value\n",
    "index = listings[listings['Location'].isin(countries)].index\n",
    "listings.loc[index, 'Location'] = 'Other'"
   ]
  },
  {
   "cell_type": "markdown",
   "id": "51e06190-da35-4797-a115-4314dc87b852",
   "metadata": {},
   "source": [
    "#### Price Column\n",
    "\n",
    "Here we will remove currency from the \"Price\" column and put everything in Euro because it's the most common currency."
   ]
  },
  {
   "cell_type": "code",
   "execution_count": 53,
   "id": "9bf2b44b-5f27-4fc3-ad73-b1a40b54b10f",
   "metadata": {},
   "outputs": [],
   "source": [
    "def replace_money(x):\n",
    "    if 'EUR' in x or 'CHF' in x or 'DKK' in x:\n",
    "        return x\n",
    "    else:\n",
    "        return 'GBP'\n",
    "\n",
    "# separate the currency\n",
    "listings['Currency'] = listings['Price'].apply(lambda x: replace_money(x.split(' ')[0]))"
   ]
  },
  {
   "cell_type": "code",
   "execution_count": 54,
   "id": "ee5998c4-ff87-47e9-a878-08b613d7162a",
   "metadata": {},
   "outputs": [
    {
     "data": {
      "image/png": "[encoded data removed]",
      "text/plain": [
       "<Figure size 720x360 with 1 Axes>"
      ]
     },
     "metadata": {},
     "output_type": "display_data"
    }
   ],
   "source": [
    "# show the most common currency\n",
    "sns.countplot(data=listings, y='Currency')\n",
    "plt.title('Currency distribution', fontsize=17)\n",
    "plt.xlabel('Currency'); plt.ylabel('Count')\n",
    "plt.show()"
   ]
  },
  {
   "cell_type": "code",
   "execution_count": 55,
   "id": "d455b728-276a-4f06-9ef6-4d0f1133a49f",
   "metadata": {},
   "outputs": [
    {
     "data": {
      "application/com.datacamp.data-table.v1+json": {
       "is_truncated": false,
       "table": {
        "data": [
         {
          "Boat Type": "Fishing Boat",
          "Currency": "CHF",
          "Length": 4.35,
          "Location": "Switzerland",
          "Manufacturer": "Terhi power boats",
          "Material": "GRP",
          "Number of views last 7 days": 239,
          "Price": 3500,
          "Type": "Electric",
          "Width": 1.75,
          "Year Built": 1987,
          "index": 0
         },
         {
          "Boat Type": "Sport Boat",
          "Currency": "EUR",
          "Length": 4.7,
          "Location": "Italy",
          "Manufacturer": "GS Nautica power boats",
          "Material": "GRP",
          "Number of views last 7 days": 69,
          "Price": 3500,
          "Type": "Uknown",
          "Width": 2,
          "Year Built": 2004,
          "index": 1
         },
         {
          "Boat Type": "Fishing Boat",
          "Currency": "CHF",
          "Length": 3.72,
          "Location": "Switzerland",
          "Manufacturer": "Italmarine power boats",
          "Material": "Aluminium",
          "Number of views last 7 days": 413,
          "Price": 4500,
          "Type": "Unleaded",
          "Width": 1.33,
          "Year Built": 1997,
          "index": 2
         }
        ],
        "schema": {
         "fields": [
          {
           "name": "index",
           "type": "integer"
          },
          {
           "name": "Price",
           "type": "integer"
          },
          {
           "name": "Boat Type",
           "type": "string"
          },
          {
           "name": "Manufacturer",
           "type": "string"
          },
          {
           "name": "Type",
           "type": "string"
          },
          {
           "name": "Year Built",
           "type": "integer"
          },
          {
           "name": "Length",
           "type": "number"
          },
          {
           "name": "Width",
           "type": "number"
          },
          {
           "name": "Material",
           "type": "string"
          },
          {
           "name": "Location",
           "type": "string"
          },
          {
           "name": "Number of views last 7 days",
           "type": "integer"
          },
          {
           "name": "Currency",
           "type": "string"
          }
         ],
         "pandas_version": "1.4.0",
         "primaryKey": [
          "index"
         ]
        }
       },
       "total_rows": 3
      },
      "text/html": [
       "<div>\n",
       "<style scoped>\n",
       "    .dataframe tbody tr th:only-of-type {\n",
       "        vertical-align: middle;\n",
       "    }\n",
       "\n",
       "    .dataframe tbody tr th {\n",
       "        vertical-align: top;\n",
       "    }\n",
       "\n",
       "    .dataframe thead th {\n",
       "        text-align: right;\n",
       "    }\n",
       "</style>\n",
       "<table border=\"1\" class=\"dataframe\">\n",
       "  <thead>\n",
       "    <tr style=\"text-align: right;\">\n",
       "      <th></th>\n",
       "      <th>Price</th>\n",
       "      <th>Boat Type</th>\n",
       "      <th>Manufacturer</th>\n",
       "      <th>Type</th>\n",
       "      <th>Year Built</th>\n",
       "      <th>Length</th>\n",
       "      <th>Width</th>\n",
       "      <th>Material</th>\n",
       "      <th>Location</th>\n",
       "      <th>Number of views last 7 days</th>\n",
       "      <th>Currency</th>\n",
       "    </tr>\n",
       "  </thead>\n",
       "  <tbody>\n",
       "    <tr>\n",
       "      <th>0</th>\n",
       "      <td>3500</td>\n",
       "      <td>Fishing Boat</td>\n",
       "      <td>Terhi power boats</td>\n",
       "      <td>Electric</td>\n",
       "      <td>1987</td>\n",
       "      <td>4.35</td>\n",
       "      <td>1.75</td>\n",
       "      <td>GRP</td>\n",
       "      <td>Switzerland</td>\n",
       "      <td>239</td>\n",
       "      <td>CHF</td>\n",
       "    </tr>\n",
       "    <tr>\n",
       "      <th>1</th>\n",
       "      <td>3500</td>\n",
       "      <td>Sport Boat</td>\n",
       "      <td>GS Nautica power boats</td>\n",
       "      <td>Uknown</td>\n",
       "      <td>2004</td>\n",
       "      <td>4.70</td>\n",
       "      <td>2.00</td>\n",
       "      <td>GRP</td>\n",
       "      <td>Italy</td>\n",
       "      <td>69</td>\n",
       "      <td>EUR</td>\n",
       "    </tr>\n",
       "    <tr>\n",
       "      <th>2</th>\n",
       "      <td>4500</td>\n",
       "      <td>Fishing Boat</td>\n",
       "      <td>Italmarine power boats</td>\n",
       "      <td>Unleaded</td>\n",
       "      <td>1997</td>\n",
       "      <td>3.72</td>\n",
       "      <td>1.33</td>\n",
       "      <td>Aluminium</td>\n",
       "      <td>Switzerland</td>\n",
       "      <td>413</td>\n",
       "      <td>CHF</td>\n",
       "    </tr>\n",
       "  </tbody>\n",
       "</table>\n",
       "</div>"
      ],
      "text/plain": [
       "   Price     Boat Type            Manufacturer      Type  Year Built  Length  \\\n",
       "0   3500  Fishing Boat       Terhi power boats  Electric        1987    4.35   \n",
       "1   3500    Sport Boat  GS Nautica power boats    Uknown        2004    4.70   \n",
       "2   4500  Fishing Boat  Italmarine power boats  Unleaded        1997    3.72   \n",
       "\n",
       "   Width   Material     Location  Number of views last 7 days Currency  \n",
       "0   1.75        GRP  Switzerland                          239      CHF  \n",
       "1   2.00        GRP        Italy                           69      EUR  \n",
       "2   1.33  Aluminium  Switzerland                          413      CHF  "
      ]
     },
     "execution_count": 55,
     "metadata": {},
     "output_type": "execute_result"
    }
   ],
   "source": [
    "# remove currency from price and convert the data type\n",
    "listings['Price'] = listings['Price'].apply(lambda x: x.split(' ')[-1])\n",
    "listings['Price'] = listings['Price'].astype('int32')\n",
    "listings.head(3)"
   ]
  },
  {
   "cell_type": "code",
   "execution_count": 56,
   "id": "a6c7cbf3-0740-417d-ac32-2aaed452daf4",
   "metadata": {},
   "outputs": [],
   "source": [
    "def convert_money(x):\n",
    "    if x['Currency'] == 'CHF':\n",
    "        return x['Price'] * 0.97\n",
    "    if x['Currency'] == 'GBP':\n",
    "        return x['Price'] * 1.18\n",
    "    if x['Currency'] == 'DKK':\n",
    "        return x['Price'] * 0.13\n",
    "    return x['Price']\n",
    "\n",
    "# traverse the column to put everything in EURO\n",
    "for idx, content in listings.iterrows():\n",
    "    listings.loc[idx, 'Price'] = convert_money(content)\n",
    "\n",
    "# remove the unnecessary column\n",
    "listings.drop('Currency', axis='columns', inplace=True)"
   ]
  },
  {
   "cell_type": "markdown",
   "id": "f6a8369f-72dd-4d1f-8f35-3d77cb20ca87",
   "metadata": {},
   "source": [
    "#### 📖 Summary \n",
    "\n",
    "This section was the heaviest for a reason. There were a lot of categorical values that needed careful analysis. Overall, with such big effort we were able to reduce the categorical values drastically. Here's the table to illustrate the dramatic effect:\n",
    "\n",
    "| Column | Before (unique values) | After (unique values) |\n",
    "| --- | --- | --- |\n",
    "| Boat Type | 126 | 14 |\n",
    "| Manufacturer | 910 | 742 | \n",
    "| Type | 24 | 4 | \n",
    "| Material | 11 | 6 |\n",
    "| Location | 2995 | 8 | \n",
    "\n"
   ]
  },
  {
   "cell_type": "markdown",
   "id": "f7da251e-6e75-42d1-bc94-25f85f889279",
   "metadata": {},
   "source": [
    "### 3. Feature Selection & Model Evaluation\n",
    "\n",
    "To see how data is related to each other, we typically use Correlation Matrix. However, our case requires something more powerful. Since Correlation Matrix can only work with numeric data, we need a tool that can reveal some insights about the categorical values! Therefore, I'm using a Power Score Matrix instead [1]. It's much more powerful in many ways, so we will stick to it. Now hidden data can no longer hide!\n",
    "\n",
    "Below we see some interesting insights:\n",
    "- Length & Width are correlated which is not surprising. We will need to drop one of them, I'll be removing the \"Width\" column. \n",
    "- Manufacturer column has big correlations with \"Material\", \"Boat Type\", and \"Location\" columns. We will also remove this column because of two reasons: multi-collinearity and big number of unique values (over 700). \n",
    "- No column seem to have correlation with our goal - \"Number of views last 7 days\". \n",
    "\n",
    "\n",
    "#### Model \n",
    "Since the dataset has quite a lot of outliers and a big number of categorical data, the best model to use would be **RandomForestRegressor**. It performed better in both time- and accuracy evaluations in comparison to Adaboost and XGBoost. Last two models didn't score better than 25%. I will talk about the results of the final model at the end of the block. "
   ]
  },
  {
   "cell_type": "code",
   "execution_count": 57,
   "id": "cc6abf06-9d1a-4f0b-9455-a0c7e5752744",
   "metadata": {},
   "outputs": [
    {
     "data": {
      "image/png": "[encoded data removed]",
      "text/plain": [
       "<Figure size 720x288 with 2 Axes>"
      ]
     },
     "metadata": {},
     "output_type": "display_data"
    }
   ],
   "source": [
    "# visualize power score matrix\n",
    "viz.pps_matrix(listings)"
   ]
  },
  {
   "cell_type": "code",
   "execution_count": 58,
   "id": "d863d404-b7c9-4c83-93f7-1bad31f68bbb",
   "metadata": {},
   "outputs": [],
   "source": [
    "# drop \"Width\" column\n",
    "listings.drop('Width', axis='columns', inplace=True)\n",
    "\n",
    "# drop Manufacturer column\n",
    "listings.drop('Manufacturer', axis='columns', inplace=True)"
   ]
  },
  {
   "cell_type": "markdown",
   "id": "a4aa2d11-5efc-4df9-84d0-c1559097ed43",
   "metadata": {},
   "source": [
    "#### Split data and train"
   ]
  },
  {
   "cell_type": "code",
   "execution_count": 59,
   "id": "2bef9eb7-d5fd-48ad-8b59-fed1161900e0",
   "metadata": {},
   "outputs": [],
   "source": [
    "# split data\n",
    "X, y = listings.drop('Number of views last 7 days', axis='columns'), listings['Number of views last 7 days']\n",
    "\n",
    "# encode categorical values\n",
    "X = pd.get_dummies(X, drop_first=True)\n",
    "\n",
    "# split data into train and test\n",
    "X_train, X_test, y_train, y_test = train_test_split(X, y, test_size=0.25, random_state=21)"
   ]
  },
  {
   "cell_type": "code",
   "execution_count": 60,
   "id": "1dc0d0a3-e453-423e-ae4f-c67ea759bc65",
   "metadata": {},
   "outputs": [
    {
     "name": "stdout",
     "output_type": "stream",
     "text": [
      "RMSE score: 120.23500253795163\n"
     ]
    }
   ],
   "source": [
    "# instantiate the model\n",
    "reg = RandomForestRegressor(max_features='sqrt', min_samples_leaf=7, n_estimators=200).fit(X_train, y_train)\n",
    "\n",
    "# predict test values\n",
    "preds = reg.predict(X_test)\n",
    "\n",
    "# show RMSE score\n",
    "print('RMSE score:', np.sqrt(mean_squared_error(y_test, preds)))"
   ]
  },
  {
   "cell_type": "markdown",
   "id": "5deea556-8b72-4ee9-bfa6-d3f4397f6ac8",
   "metadata": {},
   "source": [
    "### How many values are predicted with 50% of the true value?\n",
    "\n",
    "Since the goal of the notebook was to predict as close to the true value as possible and there was an acceptable margin of error, we can use that information to calculate how many data points fall into that category. \n",
    "\n",
    "Below we can see that out of 1536 values, 1034 of them indeed fall into that distribution. This accounts for 67% of data to be more-or-less correctly classified!"
   ]
  },
  {
   "cell_type": "code",
   "execution_count": 61,
   "id": "3df72c1c-f125-4a5a-98f0-c256468dd376",
   "metadata": {},
   "outputs": [
    {
     "data": {
      "text/plain": [
       "False    1083\n",
       "True      632\n",
       "Name: off, dtype: int64"
      ]
     },
     "execution_count": 61,
     "metadata": {},
     "output_type": "execute_result"
    }
   ],
   "source": [
    "# calculate the number of appropriate predictions\n",
    "preds_df = pd.DataFrame({'true': y_test, 'pred': preds})\n",
    "preds_df['diff'] = preds_df['true'] - preds_df['pred']\n",
    "preds_df['off'] = np.abs(preds_df['diff']) > (preds_df['true'] // 2)\n",
    "\n",
    "# show results\n",
    "preds_df['off'].value_counts()"
   ]
  },
  {
   "cell_type": "markdown",
   "id": "f12a7a8b-9b99-4925-bab8-d0dbe831439d",
   "metadata": {},
   "source": [
    "### What features play the biggest part?\n",
    "\n",
    "One more task was to analyze whether there was a need to shorten the number of questions when posting an ad. Indeed, there **is** a need to do so. It turned out that the most important features are: Location, Price, Length & Width, Year Built. Other features don't play that big of a role. "
   ]
  },
  {
   "cell_type": "code",
   "execution_count": 62,
   "id": "997f1e45-e3c4-446e-80e0-4a672f201b7f",
   "metadata": {},
   "outputs": [
    {
     "data": {
      "image/png": "[encoded data removed]",
      "text/plain": [
       "<Figure size 720x360 with 1 Axes>"
      ]
     },
     "metadata": {},
     "output_type": "display_data"
    }
   ],
   "source": [
    "# get and sort feature importances\n",
    "importances = pd.DataFrame(reg.feature_importances_, index=X.columns).rename(columns={0: 'importance'})\n",
    "sort = importances.sort_values('importance', ascending=False).reset_index().head(15)\n",
    "\n",
    "# visualize the first 15 values\n",
    "sns.barplot(np.arange(0, len(sort)), sort['importance'])\n",
    "plt.title('Feature importances', fontsize=17)\n",
    "plt.xticks(np.arange(0, len(sort)), sort['index'], rotation=90)\n",
    "plt.xlabel('Column', fontsize=14)\n",
    "plt.ylabel('Importance', fontsize=14)\n",
    "plt.tight_layout()\n",
    "plt.show()"
   ]
  },
  {
   "cell_type": "markdown",
   "id": "693bf121-5688-4cb0-9fbc-91e1eb9cbfea",
   "metadata": {},
   "source": [
    "### Which boats have the lowest number of views?\n",
    "\n",
    "One final task that the managers wanted us to perform was to see which boats have the lowest number of views. According to the true data, the boat class that gets the lowest reviews are Center Console Boats (99) Deck Boats (102). However, the model predicted them higher. The two classes that receive the lowest number of views according to the model are House Boats (212-true, 174-predicted) and Mega Yacht (192-true, 177-predicted). "
   ]
  },
  {
   "cell_type": "code",
   "execution_count": 69,
   "id": "c813f651-c403-4f4f-aafb-e1c769aa953c",
   "metadata": {},
   "outputs": [
    {
     "data": {
      "application/com.datacamp.data-table.v1+json": {
       "is_truncated": false,
       "table": {
        "data": [
         {
          "Boat Type": "Bowrider",
          "Number of views last 7 days": 205.1744186047,
          "preds": 195.0748203395
         },
         {
          "Boat Type": "Cabin Boat",
          "Number of views last 7 days": 278.4932975871,
          "preds": 261.3995354131
         },
         {
          "Boat Type": "Center console boat",
          "Number of views last 7 days": 99.8817204301,
          "preds": 122.315447552
         },
         {
          "Boat Type": "Classic",
          "Number of views last 7 days": 259.8416666667,
          "preds": 261.8933876927
         },
         {
          "Boat Type": "Deck Boat",
          "Number of views last 7 days": 102.7904761905,
          "preds": 135.9984118227
         },
         {
          "Boat Type": "Fishing Boat",
          "Number of views last 7 days": 170.1149425287,
          "preds": 214.9659096721
         },
         {
          "Boat Type": "Flybridge",
          "Number of views last 7 days": 107.0035906643,
          "preds": 108.1257541448
         },
         {
          "Boat Type": "Hardtop",
          "Number of views last 7 days": 119.0886699507,
          "preds": 113.5346749462
         },
         {
          "Boat Type": "House Boat",
          "Number of views last 7 days": 212.421686747,
          "preds": 174.1054500079
         },
         {
          "Boat Type": "Mega Yacht",
          "Number of views last 7 days": 192.421686747,
          "preds": 177.7635357695
         },
         {
          "Boat Type": "Motor Yacht",
          "Number of views last 7 days": 139.9234949833,
          "preds": 135.885187221
         },
         {
          "Boat Type": "Pilothouse",
          "Number of views last 7 days": 126.9537572254,
          "preds": 141.7262940834
         },
         {
          "Boat Type": "Sport Boat",
          "Number of views last 7 days": 212.0721153846,
          "preds": 210.1006466455
         },
         {
          "Boat Type": "Trawler",
          "Number of views last 7 days": 116.5953488372,
          "preds": 122.0864762075
         }
        ],
        "schema": {
         "fields": [
          {
           "name": "Boat Type",
           "type": "string"
          },
          {
           "name": "Number of views last 7 days",
           "type": "number"
          },
          {
           "name": "preds",
           "type": "number"
          }
         ],
         "pandas_version": "1.4.0",
         "primaryKey": [
          "Boat Type"
         ]
        }
       },
       "total_rows": 14
      },
      "text/html": [
       "<div>\n",
       "<style scoped>\n",
       "    .dataframe tbody tr th:only-of-type {\n",
       "        vertical-align: middle;\n",
       "    }\n",
       "\n",
       "    .dataframe tbody tr th {\n",
       "        vertical-align: top;\n",
       "    }\n",
       "\n",
       "    .dataframe thead th {\n",
       "        text-align: right;\n",
       "    }\n",
       "</style>\n",
       "<table border=\"1\" class=\"dataframe\">\n",
       "  <thead>\n",
       "    <tr style=\"text-align: right;\">\n",
       "      <th></th>\n",
       "      <th>Number of views last 7 days</th>\n",
       "      <th>preds</th>\n",
       "    </tr>\n",
       "    <tr>\n",
       "      <th>Boat Type</th>\n",
       "      <th></th>\n",
       "      <th></th>\n",
       "    </tr>\n",
       "  </thead>\n",
       "  <tbody>\n",
       "    <tr>\n",
       "      <th>Bowrider</th>\n",
       "      <td>205.174419</td>\n",
       "      <td>195.074820</td>\n",
       "    </tr>\n",
       "    <tr>\n",
       "      <th>Cabin Boat</th>\n",
       "      <td>278.493298</td>\n",
       "      <td>261.399535</td>\n",
       "    </tr>\n",
       "    <tr>\n",
       "      <th>Center console boat</th>\n",
       "      <td>99.881720</td>\n",
       "      <td>122.315448</td>\n",
       "    </tr>\n",
       "    <tr>\n",
       "      <th>Classic</th>\n",
       "      <td>259.841667</td>\n",
       "      <td>261.893388</td>\n",
       "    </tr>\n",
       "    <tr>\n",
       "      <th>Deck Boat</th>\n",
       "      <td>102.790476</td>\n",
       "      <td>135.998412</td>\n",
       "    </tr>\n",
       "    <tr>\n",
       "      <th>Fishing Boat</th>\n",
       "      <td>170.114943</td>\n",
       "      <td>214.965910</td>\n",
       "    </tr>\n",
       "    <tr>\n",
       "      <th>Flybridge</th>\n",
       "      <td>107.003591</td>\n",
       "      <td>108.125754</td>\n",
       "    </tr>\n",
       "    <tr>\n",
       "      <th>Hardtop</th>\n",
       "      <td>119.088670</td>\n",
       "      <td>113.534675</td>\n",
       "    </tr>\n",
       "    <tr>\n",
       "      <th>House Boat</th>\n",
       "      <td>212.421687</td>\n",
       "      <td>174.105450</td>\n",
       "    </tr>\n",
       "    <tr>\n",
       "      <th>Mega Yacht</th>\n",
       "      <td>192.421687</td>\n",
       "      <td>177.763536</td>\n",
       "    </tr>\n",
       "    <tr>\n",
       "      <th>Motor Yacht</th>\n",
       "      <td>139.923495</td>\n",
       "      <td>135.885187</td>\n",
       "    </tr>\n",
       "    <tr>\n",
       "      <th>Pilothouse</th>\n",
       "      <td>126.953757</td>\n",
       "      <td>141.726294</td>\n",
       "    </tr>\n",
       "    <tr>\n",
       "      <th>Sport Boat</th>\n",
       "      <td>212.072115</td>\n",
       "      <td>210.100647</td>\n",
       "    </tr>\n",
       "    <tr>\n",
       "      <th>Trawler</th>\n",
       "      <td>116.595349</td>\n",
       "      <td>122.086476</td>\n",
       "    </tr>\n",
       "  </tbody>\n",
       "</table>\n",
       "</div>"
      ],
      "text/plain": [
       "                     Number of views last 7 days       preds\n",
       "Boat Type                                                   \n",
       "Bowrider                              205.174419  195.074820\n",
       "Cabin Boat                            278.493298  261.399535\n",
       "Center console boat                    99.881720  122.315448\n",
       "Classic                               259.841667  261.893388\n",
       "Deck Boat                             102.790476  135.998412\n",
       "Fishing Boat                          170.114943  214.965910\n",
       "Flybridge                             107.003591  108.125754\n",
       "Hardtop                               119.088670  113.534675\n",
       "House Boat                            212.421687  174.105450\n",
       "Mega Yacht                            192.421687  177.763536\n",
       "Motor Yacht                           139.923495  135.885187\n",
       "Pilothouse                            126.953757  141.726294\n",
       "Sport Boat                            212.072115  210.100647\n",
       "Trawler                               116.595349  122.086476"
      ]
     },
     "execution_count": 69,
     "metadata": {},
     "output_type": "execute_result"
    }
   ],
   "source": [
    "# look into the boats with lowest views predicted\n",
    "df = listings.copy()\n",
    "df['preds'] = reg.predict(X)\n",
    "df['diff'] = df['Number of views last 7 days'] - df['preds']\n",
    "\n",
    "df.groupby('Boat Type').agg({'Number of views last 7 days': np.mean,\n",
    "                             'preds': np.mean})"
   ]
  },
  {
   "cell_type": "markdown",
   "id": "d5e215ba-051a-4c33-9edb-9db717d7ff42",
   "metadata": {},
   "source": [
    "### 4. Final Recommendations\n",
    "\n",
    "1. Fewer questions <br>\n",
    "As seen above, not all the questions were used in the analysis. The two columns that initially had the biggest number of missing values in (Materials=18% and Manufacturer=14%) turned out to be insignificant. Therefore, to increase the signing-up ratio, we would generally need Location, Price, Length & Width, Year Built information. \n",
    "\n",
    "2. More thorough analysis & better model <br>\n",
    "It's quite logical to suggest spending more time analyzing the dataset to see more patterns. Having had only 24 hours to submit a complete analysis implies that it was rushed and some important points might be overlooked. Therefore, to know for a fact which moves to take next, it's strongly recommended to further analyze the dataset. The possible vectors are discussed next in the \"Future Work\" section. \n",
    "\n",
    "3. Look into the boats with lowest views more in details <br>\n",
    "The analysis provided here gives food for thought for the upcoming analysis. It's interesting how the most expensive boat - Mega Yacht and Houseboat got less views than anticipated. It might be helpful to analyze the data entries further.\n",
    "\n",
    "\n",
    "4. Improved UX and UI <br>\n",
    "While cleaning the dataset, there was a lot of inconsistency present. One big improvement would be to have a drop-down to select a specific category so that there is no bad data introduced.\n",
    "\n"
   ]
  },
  {
   "cell_type": "markdown",
   "id": "c7ad75d9-335e-4d1d-8791-34892b73c802",
   "metadata": {},
   "source": [
    "### 5. Future Work\n",
    "\n",
    "To make the analysis better and more accurate, there will be a need to look into the Location distributions to see if there are any patterns. I believe there should be more \"boat-friendly\" locations where having a boat is a must! Just in general, going back and diving into the dataset is always a good idea to find any new patterns. \n",
    "\n",
    "Next, to see which questions would increase the sign-up ratio, it would be great to run several statistical tests such as A/B. \n",
    "\n",
    "Moreover, find the dimensionality techniques and models that are suited for datasets with a big number of categorical data.\n"
   ]
  }
 ],
 "metadata": {
  "kernelspec": {
   "display_name": "Python 3 (ipykernel)",
   "language": "python",
   "name": "python3"
  },
  "language_info": {
   "codemirror_mode": {
    "name": "ipython",
    "version": 3
   },
   "file_extension": ".py",
   "mimetype": "text/x-python",
   "name": "python",
   "nbconvert_exporter": "python",
   "pygments_lexer": "ipython3",
   "version": "3.8.10"
  }
 },
 "nbformat": 4,
 "nbformat_minor": 5
}