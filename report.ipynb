{
 "cells": [
  {
   "cell_type": "markdown",
   "metadata": {
    "collapsed": true,
    "pycharm": {
     "name": "#%% md\n"
    }
   },
   "source": [
    "# DataCamp Certification Case Study\n",
    "\n",
    "### Project Brief\n",
    "\n",
    "Congratulations, you have just landed your first job as a data scientist at Nearly New Nautical! Nearly New Nautical is a website that allows users to advertise their used boats for sale. To boost traffic to the website, the product manager wants to prevent listing boats that do not receive many views.\n",
    "\n",
    "The product manager wants to know if you can develop a model to predict the number of views a listing will receive based on the boat's features. She would consider using your model if, on average, the predictions were only 50% off of the true number of views a listing would receive.\n",
    "\n",
    "In addition, she has noticed that many users never complete the introductory survey to list their boat. She suspects that it is too long and has asked you whether some features are more predictive of views than others. If so, she may be able to trim the length of the survey and increase the number of people who sign up.\n",
    "\n",
    "You will need to present your findings in two formats:\n",
    "- First, you will need to present your findings to the product manager via a 10 minute oral presentation. The owner has no technical data science background.\n",
    "- You will also need to submit a technical report to your manager, who does have a strong technical data science background.\n"
   ]
  },
  {
   "cell_type": "markdown",
   "source": [
    "### Introduction\n",
    "\n",
    "Finding the perfect recipe to increase the sign-up ratio and the traffic into the website is definitely challenging. It gets even more so, if the sign-up experience is full of endless questions. This notebook was created to attempt facing these challenges. To do so, we have been provided with a dataset that is comprised of 9888 entries. Even though the dataset does not seem that big, it's extremely inconsistent which we will see under \"2. Data cleaning\". Here is the small description of the dataset and its columns:\n",
    "\n",
    "<center><figure>\n",
    "  <img src=\"https://raw.githubusercontent.com/dissagaliyeva/boat-rentals/master/data/data.png\" width=\"500\">\n",
    "    <figcaption><i>Fig.1 - Dataset description.</i></figcaption>\n",
    "</figure></center>\n",
    "\n",
    "\n",
    "#### Table of Content\n",
    "<ol>\n",
    "  <li>The Dataset</li>\n",
    "  <li>Data cleaning & Exploratory Data Analysis</li>\n",
    "  <li>Feature selection & Model evaluation</li>\n",
    "  <li>Final recommendations</li>\n",
    "  <li>Future work</li>\n",
    "</ol>"
   ],
   "metadata": {
    "collapsed": false,
    "pycharm": {
     "name": "#%% md\n"
    }
   }
  },
  {
   "cell_type": "code",
   "execution_count": null,
   "outputs": [],
   "source": [],
   "metadata": {
    "collapsed": false,
    "pycharm": {
     "name": "#%%\n"
    }
   }
  },
  {
   "cell_type": "code",
   "execution_count": null,
   "outputs": [],
   "source": [],
   "metadata": {
    "collapsed": false,
    "pycharm": {
     "name": "#%%\n"
    }
   }
  }
 ],
 "metadata": {
  "kernelspec": {
   "display_name": "Python 3",
   "language": "python",
   "name": "python3"
  },
  "language_info": {
   "codemirror_mode": {
    "name": "ipython",
    "version": 2
   },
   "file_extension": ".py",
   "mimetype": "text/x-python",
   "name": "python",
   "nbconvert_exporter": "python",
   "pygments_lexer": "ipython2",
   "version": "2.7.6"
  }
 },
 "nbformat": 4,
 "nbformat_minor": 0
}